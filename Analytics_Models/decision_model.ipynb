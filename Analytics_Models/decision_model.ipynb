{
  "nbformat": 4,
  "nbformat_minor": 0,
  "metadata": {
    "colab": {
      "name": "decision_model (1).ipynb",
      "provenance": [],
      "collapsed_sections": []
    },
    "kernelspec": {
      "name": "python3",
      "display_name": "Python 3"
    },
    "language_info": {
      "name": "python"
    }
  },
  "cells": [
    {
      "cell_type": "code",
      "source": [
        "import numpy as np\n",
        "import pandas as pd\n",
        "import matplotlib.pyplot as plt\n",
        "from matplotlib import style\n",
        "import datetime as dt \n",
        "from sklearn.preprocessing import MinMaxScaler\n",
        "from tensorflow.keras.layers import Dense ,Dropout, LSTM\n",
        "from tensorflow.keras.models import Sequential\n",
        "!pip install yfinance\n",
        "import yfinance as yf"
      ],
      "metadata": {
        "colab": {
          "base_uri": "https://localhost:8080/"
        },
        "id": "78C1VHmUlBP3",
        "outputId": "d71ff473-f83a-421e-ca3a-ffdccb597377"
      },
      "execution_count": 55,
      "outputs": [
        {
          "output_type": "stream",
          "name": "stdout",
          "text": [
            "Requirement already satisfied: yfinance in /usr/local/lib/python3.7/dist-packages (0.1.70)\n",
            "Requirement already satisfied: multitasking>=0.0.7 in /usr/local/lib/python3.7/dist-packages (from yfinance) (0.0.10)\n",
            "Requirement already satisfied: requests>=2.26 in /usr/local/lib/python3.7/dist-packages (from yfinance) (2.27.1)\n",
            "Requirement already satisfied: lxml>=4.5.1 in /usr/local/lib/python3.7/dist-packages (from yfinance) (4.8.0)\n",
            "Requirement already satisfied: pandas>=0.24.0 in /usr/local/lib/python3.7/dist-packages (from yfinance) (1.3.5)\n",
            "Requirement already satisfied: numpy>=1.15 in /usr/local/lib/python3.7/dist-packages (from yfinance) (1.21.5)\n",
            "Requirement already satisfied: pytz>=2017.3 in /usr/local/lib/python3.7/dist-packages (from pandas>=0.24.0->yfinance) (2018.9)\n",
            "Requirement already satisfied: python-dateutil>=2.7.3 in /usr/local/lib/python3.7/dist-packages (from pandas>=0.24.0->yfinance) (2.8.2)\n",
            "Requirement already satisfied: six>=1.5 in /usr/local/lib/python3.7/dist-packages (from python-dateutil>=2.7.3->pandas>=0.24.0->yfinance) (1.15.0)\n",
            "Requirement already satisfied: certifi>=2017.4.17 in /usr/local/lib/python3.7/dist-packages (from requests>=2.26->yfinance) (2021.10.8)\n",
            "Requirement already satisfied: charset-normalizer~=2.0.0 in /usr/local/lib/python3.7/dist-packages (from requests>=2.26->yfinance) (2.0.11)\n",
            "Requirement already satisfied: urllib3<1.27,>=1.21.1 in /usr/local/lib/python3.7/dist-packages (from requests>=2.26->yfinance) (1.24.3)\n",
            "Requirement already satisfied: idna<4,>=2.5 in /usr/local/lib/python3.7/dist-packages (from requests>=2.26->yfinance) (2.10)\n"
          ]
        }
      ]
    },
    {
      "cell_type": "code",
      "execution_count": 71,
      "metadata": {
        "colab": {
          "base_uri": "https://localhost:8080/",
          "height": 17
        },
        "id": "29JzoKW8hg__",
        "outputId": "04fe66cc-9882-48ee-cb84-411a72cd7bae"
      },
      "outputs": [
        {
          "output_type": "display_data",
          "data": {
            "text/html": [
              "<style>.container { width:100% !important; }</style>"
            ],
            "text/plain": [
              "<IPython.core.display.HTML object>"
            ]
          },
          "metadata": {}
        }
      ],
      "source": [
        "from IPython.core.display import display, HTML\n",
        "display(HTML(\"<style>.container { width:100% !important; }</style>\"))\n",
        "\n",
        "# ___library_import_statements___\n",
        "import pandas as pd\n",
        "\n",
        "# for pandas_datareader, otherwise it might have issues, sometimes there is some version mismatch\n",
        "pd.core.common.is_list_like = pd.api.types.is_list_like\n",
        "\n",
        "# make pandas to print dataframes nicely\n",
        "pd.set_option('expand_frame_repr', False)  \n",
        "\n",
        "import pandas_datareader.data as web\n",
        "import numpy as np\n",
        "import matplotlib.pyplot as plt\n",
        "import datetime\n",
        "import time\n",
        "\n",
        "\n",
        "\n",
        "#optional \n",
        "#yahoo_finance.pdr_override()\n",
        "\n",
        "%matplotlib inline"
      ]
    },
    {
      "cell_type": "code",
      "source": [
        "# ___variables___\n",
        "ticker = 'AAPL'\n",
        "\n",
        "start_time = datetime.datetime(2017, 10, 1)\n",
        "#end_time = datetime.datetime(2019, 1, 20)\n",
        "end_time = datetime.datetime.now().date().isoformat()         # today"
      ],
      "metadata": {
        "id": "hClIgTVXiiyV"
      },
      "execution_count": 57,
      "outputs": []
    },
    {
      "cell_type": "code",
      "source": [
        "start = dt.datetime(2020,1,1) \n",
        "end = dt.datetime.now()\n",
        "Crypto_currency = \"BTC\"\n",
        "Real_currency = \"USD\"\n",
        "\n",
        "BTC_USD = yf.Ticker(f\"{Crypto_currency}-{Real_currency}\")\n",
        "ticker_df = BTC_USD.history(start=start, end=end) \n",
        "ticker_df = ticker_df.reset_index()\n",
        "print(ticker_df.head(5))"
      ],
      "metadata": {
        "colab": {
          "base_uri": "https://localhost:8080/"
        },
        "id": "gBfN_JqUinSs",
        "outputId": "963d6432-36e8-43e2-8baa-1f43792c9856"
      },
      "execution_count": 58,
      "outputs": [
        {
          "output_type": "stream",
          "name": "stdout",
          "text": [
            "        Date         Open         High          Low        Close       Volume  Dividends  Stock Splits\n",
            "0 2020-01-01  7194.892090  7254.330566  7174.944336  7200.174316  18565664997          0             0\n",
            "1 2020-01-02  7202.551270  7212.155273  6935.270020  6985.470215  20802083465          0             0\n",
            "2 2020-01-03  6984.428711  7413.715332  6914.996094  7344.884277  28111481032          0             0\n",
            "3 2020-01-04  7345.375488  7427.385742  7309.514160  7410.656738  18444271275          0             0\n",
            "4 2020-01-05  7410.451660  7544.497070  7400.535645  7411.317383  19725074095          0             0\n"
          ]
        }
      ]
    },
    {
      "cell_type": "code",
      "source": [
        ""
      ],
      "metadata": {
        "id": "u202Cof4nsqA"
      },
      "execution_count": 58,
      "outputs": []
    },
    {
      "cell_type": "code",
      "source": [
        "df = ticker_df"
      ],
      "metadata": {
        "id": "fJe2tAN7ivxY"
      },
      "execution_count": 59,
      "outputs": []
    },
    {
      "cell_type": "code",
      "source": [
        "def computeRSI (data, time_window):\n",
        "    diff = data.diff(1).dropna()        # diff in one field(one day)\n",
        "\n",
        "    #this preservers dimensions off diff values\n",
        "    up_chg = 0 * diff\n",
        "    down_chg = 0 * diff\n",
        "    \n",
        "    # up change is equal to the positive difference, otherwise equal to zero\n",
        "    up_chg[diff > 0] = diff[ diff>0 ]\n",
        "    \n",
        "    # down change is equal to negative deifference, otherwise equal to zero\n",
        "    down_chg[diff < 0] = diff[ diff < 0 ]\n",
        "    \n",
        "    # check pandas documentation for ewm\n",
        "    # https://pandas.pydata.org/pandas-docs/stable/reference/api/pandas.DataFrame.ewm.html\n",
        "    # values are related to exponential decay\n",
        "    # we set com=time_window-1 so we get decay alpha=1/time_window\n",
        "    up_chg_avg   = up_chg.ewm(com=time_window-1 , min_periods=time_window).mean()\n",
        "    down_chg_avg = down_chg.ewm(com=time_window-1 , min_periods=time_window).mean()\n",
        "    \n",
        "    rs = abs(up_chg_avg/down_chg_avg)\n",
        "    rsi = 100 - 100/(1+rs)\n",
        "    return rsi"
      ],
      "metadata": {
        "id": "GjOjYSneiyZl"
      },
      "execution_count": 60,
      "outputs": []
    },
    {
      "cell_type": "code",
      "source": [
        "df['RSI'] = computeRSI(df['Close'], 14)"
      ],
      "metadata": {
        "id": "ajX__Mmti02i"
      },
      "execution_count": 61,
      "outputs": []
    },
    {
      "cell_type": "code",
      "source": [
        "print(df.head())\n",
        "print(df.tail())"
      ],
      "metadata": {
        "id": "4vNi1x5Bi5tK",
        "colab": {
          "base_uri": "https://localhost:8080/"
        },
        "outputId": "d5a1b791-2b56-4526-84c9-dd06483eb817"
      },
      "execution_count": 62,
      "outputs": [
        {
          "output_type": "stream",
          "name": "stdout",
          "text": [
            "        Date         Open         High          Low        Close       Volume  Dividends  Stock Splits  RSI\n",
            "0 2020-01-01  7194.892090  7254.330566  7174.944336  7200.174316  18565664997          0             0  NaN\n",
            "1 2020-01-02  7202.551270  7212.155273  6935.270020  6985.470215  20802083465          0             0  NaN\n",
            "2 2020-01-03  6984.428711  7413.715332  6914.996094  7344.884277  28111481032          0             0  NaN\n",
            "3 2020-01-04  7345.375488  7427.385742  7309.514160  7410.656738  18444271275          0             0  NaN\n",
            "4 2020-01-05  7410.451660  7544.497070  7400.535645  7411.317383  19725074095          0             0  NaN\n",
            "          Date          Open          High           Low         Close       Volume  Dividends  Stock Splits        RSI\n",
            "778 2022-02-17  43937.070312  44132.972656  40249.371094  40538.011719  26246662813          0             0  45.290400\n",
            "779 2022-02-18  40552.132812  40929.152344  39637.617188  40030.976562  23310007704          0             0  43.609584\n",
            "780 2022-02-19  40026.023438  40418.878906  39713.058594  40122.156250  13736557863          0             0  44.011980\n",
            "781 2022-02-20  40118.101562  40119.890625  38112.812500  38431.378906  18340576452          0             0  38.522445\n",
            "782 2022-02-21  38339.218750  39379.757812  37438.433594  37838.296875  24180744192          0             0  36.789055\n"
          ]
        }
      ]
    },
    {
      "cell_type": "code",
      "source": [
        "df[\"decision\"] = df.RSI"
      ],
      "metadata": {
        "id": "wmKzQNQ9k--Q"
      },
      "execution_count": 63,
      "outputs": []
    },
    {
      "cell_type": "code",
      "source": [
        "df.decision.fillna(0, inplace = True)\n",
        "df.RSI.fillna(0, inplace = True)"
      ],
      "metadata": {
        "id": "AkZet5mlmPVI"
      },
      "execution_count": 64,
      "outputs": []
    },
    {
      "cell_type": "code",
      "source": [
        "df"
      ],
      "metadata": {
        "colab": {
          "base_uri": "https://localhost:8080/",
          "height": 1139
        },
        "id": "-TxkqzMIlFLG",
        "outputId": "9436ed57-07ba-41ce-89cc-a2f6a9e72a87"
      },
      "execution_count": 65,
      "outputs": [
        {
          "output_type": "execute_result",
          "data": {
            "text/html": [
              "\n",
              "  <div id=\"df-0bce5e37-ab1d-48a8-8c1d-47193a427f43\">\n",
              "    <div class=\"colab-df-container\">\n",
              "      <div>\n",
              "<style scoped>\n",
              "    .dataframe tbody tr th:only-of-type {\n",
              "        vertical-align: middle;\n",
              "    }\n",
              "\n",
              "    .dataframe tbody tr th {\n",
              "        vertical-align: top;\n",
              "    }\n",
              "\n",
              "    .dataframe thead th {\n",
              "        text-align: right;\n",
              "    }\n",
              "</style>\n",
              "<table border=\"1\" class=\"dataframe\">\n",
              "  <thead>\n",
              "    <tr style=\"text-align: right;\">\n",
              "      <th></th>\n",
              "      <th>Date</th>\n",
              "      <th>Open</th>\n",
              "      <th>High</th>\n",
              "      <th>Low</th>\n",
              "      <th>Close</th>\n",
              "      <th>Volume</th>\n",
              "      <th>Dividends</th>\n",
              "      <th>Stock Splits</th>\n",
              "      <th>RSI</th>\n",
              "      <th>decision</th>\n",
              "    </tr>\n",
              "  </thead>\n",
              "  <tbody>\n",
              "    <tr>\n",
              "      <th>0</th>\n",
              "      <td>2020-01-01</td>\n",
              "      <td>7194.892090</td>\n",
              "      <td>7254.330566</td>\n",
              "      <td>7174.944336</td>\n",
              "      <td>7200.174316</td>\n",
              "      <td>18565664997</td>\n",
              "      <td>0</td>\n",
              "      <td>0</td>\n",
              "      <td>0.000000</td>\n",
              "      <td>0.000000</td>\n",
              "    </tr>\n",
              "    <tr>\n",
              "      <th>1</th>\n",
              "      <td>2020-01-02</td>\n",
              "      <td>7202.551270</td>\n",
              "      <td>7212.155273</td>\n",
              "      <td>6935.270020</td>\n",
              "      <td>6985.470215</td>\n",
              "      <td>20802083465</td>\n",
              "      <td>0</td>\n",
              "      <td>0</td>\n",
              "      <td>0.000000</td>\n",
              "      <td>0.000000</td>\n",
              "    </tr>\n",
              "    <tr>\n",
              "      <th>2</th>\n",
              "      <td>2020-01-03</td>\n",
              "      <td>6984.428711</td>\n",
              "      <td>7413.715332</td>\n",
              "      <td>6914.996094</td>\n",
              "      <td>7344.884277</td>\n",
              "      <td>28111481032</td>\n",
              "      <td>0</td>\n",
              "      <td>0</td>\n",
              "      <td>0.000000</td>\n",
              "      <td>0.000000</td>\n",
              "    </tr>\n",
              "    <tr>\n",
              "      <th>3</th>\n",
              "      <td>2020-01-04</td>\n",
              "      <td>7345.375488</td>\n",
              "      <td>7427.385742</td>\n",
              "      <td>7309.514160</td>\n",
              "      <td>7410.656738</td>\n",
              "      <td>18444271275</td>\n",
              "      <td>0</td>\n",
              "      <td>0</td>\n",
              "      <td>0.000000</td>\n",
              "      <td>0.000000</td>\n",
              "    </tr>\n",
              "    <tr>\n",
              "      <th>4</th>\n",
              "      <td>2020-01-05</td>\n",
              "      <td>7410.451660</td>\n",
              "      <td>7544.497070</td>\n",
              "      <td>7400.535645</td>\n",
              "      <td>7411.317383</td>\n",
              "      <td>19725074095</td>\n",
              "      <td>0</td>\n",
              "      <td>0</td>\n",
              "      <td>0.000000</td>\n",
              "      <td>0.000000</td>\n",
              "    </tr>\n",
              "    <tr>\n",
              "      <th>...</th>\n",
              "      <td>...</td>\n",
              "      <td>...</td>\n",
              "      <td>...</td>\n",
              "      <td>...</td>\n",
              "      <td>...</td>\n",
              "      <td>...</td>\n",
              "      <td>...</td>\n",
              "      <td>...</td>\n",
              "      <td>...</td>\n",
              "      <td>...</td>\n",
              "    </tr>\n",
              "    <tr>\n",
              "      <th>778</th>\n",
              "      <td>2022-02-17</td>\n",
              "      <td>43937.070312</td>\n",
              "      <td>44132.972656</td>\n",
              "      <td>40249.371094</td>\n",
              "      <td>40538.011719</td>\n",
              "      <td>26246662813</td>\n",
              "      <td>0</td>\n",
              "      <td>0</td>\n",
              "      <td>45.290400</td>\n",
              "      <td>45.290400</td>\n",
              "    </tr>\n",
              "    <tr>\n",
              "      <th>779</th>\n",
              "      <td>2022-02-18</td>\n",
              "      <td>40552.132812</td>\n",
              "      <td>40929.152344</td>\n",
              "      <td>39637.617188</td>\n",
              "      <td>40030.976562</td>\n",
              "      <td>23310007704</td>\n",
              "      <td>0</td>\n",
              "      <td>0</td>\n",
              "      <td>43.609584</td>\n",
              "      <td>43.609584</td>\n",
              "    </tr>\n",
              "    <tr>\n",
              "      <th>780</th>\n",
              "      <td>2022-02-19</td>\n",
              "      <td>40026.023438</td>\n",
              "      <td>40418.878906</td>\n",
              "      <td>39713.058594</td>\n",
              "      <td>40122.156250</td>\n",
              "      <td>13736557863</td>\n",
              "      <td>0</td>\n",
              "      <td>0</td>\n",
              "      <td>44.011980</td>\n",
              "      <td>44.011980</td>\n",
              "    </tr>\n",
              "    <tr>\n",
              "      <th>781</th>\n",
              "      <td>2022-02-20</td>\n",
              "      <td>40118.101562</td>\n",
              "      <td>40119.890625</td>\n",
              "      <td>38112.812500</td>\n",
              "      <td>38431.378906</td>\n",
              "      <td>18340576452</td>\n",
              "      <td>0</td>\n",
              "      <td>0</td>\n",
              "      <td>38.522445</td>\n",
              "      <td>38.522445</td>\n",
              "    </tr>\n",
              "    <tr>\n",
              "      <th>782</th>\n",
              "      <td>2022-02-21</td>\n",
              "      <td>38339.218750</td>\n",
              "      <td>39379.757812</td>\n",
              "      <td>37438.433594</td>\n",
              "      <td>37838.296875</td>\n",
              "      <td>24180744192</td>\n",
              "      <td>0</td>\n",
              "      <td>0</td>\n",
              "      <td>36.789055</td>\n",
              "      <td>36.789055</td>\n",
              "    </tr>\n",
              "  </tbody>\n",
              "</table>\n",
              "<p>783 rows × 10 columns</p>\n",
              "</div>\n",
              "      <button class=\"colab-df-convert\" onclick=\"convertToInteractive('df-0bce5e37-ab1d-48a8-8c1d-47193a427f43')\"\n",
              "              title=\"Convert this dataframe to an interactive table.\"\n",
              "              style=\"display:none;\">\n",
              "        \n",
              "  <svg xmlns=\"http://www.w3.org/2000/svg\" height=\"24px\"viewBox=\"0 0 24 24\"\n",
              "       width=\"24px\">\n",
              "    <path d=\"M0 0h24v24H0V0z\" fill=\"none\"/>\n",
              "    <path d=\"M18.56 5.44l.94 2.06.94-2.06 2.06-.94-2.06-.94-.94-2.06-.94 2.06-2.06.94zm-11 1L8.5 8.5l.94-2.06 2.06-.94-2.06-.94L8.5 2.5l-.94 2.06-2.06.94zm10 10l.94 2.06.94-2.06 2.06-.94-2.06-.94-.94-2.06-.94 2.06-2.06.94z\"/><path d=\"M17.41 7.96l-1.37-1.37c-.4-.4-.92-.59-1.43-.59-.52 0-1.04.2-1.43.59L10.3 9.45l-7.72 7.72c-.78.78-.78 2.05 0 2.83L4 21.41c.39.39.9.59 1.41.59.51 0 1.02-.2 1.41-.59l7.78-7.78 2.81-2.81c.8-.78.8-2.07 0-2.86zM5.41 20L4 18.59l7.72-7.72 1.47 1.35L5.41 20z\"/>\n",
              "  </svg>\n",
              "      </button>\n",
              "      \n",
              "  <style>\n",
              "    .colab-df-container {\n",
              "      display:flex;\n",
              "      flex-wrap:wrap;\n",
              "      gap: 12px;\n",
              "    }\n",
              "\n",
              "    .colab-df-convert {\n",
              "      background-color: #E8F0FE;\n",
              "      border: none;\n",
              "      border-radius: 50%;\n",
              "      cursor: pointer;\n",
              "      display: none;\n",
              "      fill: #1967D2;\n",
              "      height: 32px;\n",
              "      padding: 0 0 0 0;\n",
              "      width: 32px;\n",
              "    }\n",
              "\n",
              "    .colab-df-convert:hover {\n",
              "      background-color: #E2EBFA;\n",
              "      box-shadow: 0px 1px 2px rgba(60, 64, 67, 0.3), 0px 1px 3px 1px rgba(60, 64, 67, 0.15);\n",
              "      fill: #174EA6;\n",
              "    }\n",
              "\n",
              "    [theme=dark] .colab-df-convert {\n",
              "      background-color: #3B4455;\n",
              "      fill: #D2E3FC;\n",
              "    }\n",
              "\n",
              "    [theme=dark] .colab-df-convert:hover {\n",
              "      background-color: #434B5C;\n",
              "      box-shadow: 0px 1px 3px 1px rgba(0, 0, 0, 0.15);\n",
              "      filter: drop-shadow(0px 1px 2px rgba(0, 0, 0, 0.3));\n",
              "      fill: #FFFFFF;\n",
              "    }\n",
              "  </style>\n",
              "\n",
              "      <script>\n",
              "        const buttonEl =\n",
              "          document.querySelector('#df-0bce5e37-ab1d-48a8-8c1d-47193a427f43 button.colab-df-convert');\n",
              "        buttonEl.style.display =\n",
              "          google.colab.kernel.accessAllowed ? 'block' : 'none';\n",
              "\n",
              "        async function convertToInteractive(key) {\n",
              "          const element = document.querySelector('#df-0bce5e37-ab1d-48a8-8c1d-47193a427f43');\n",
              "          const dataTable =\n",
              "            await google.colab.kernel.invokeFunction('convertToInteractive',\n",
              "                                                     [key], {});\n",
              "          if (!dataTable) return;\n",
              "\n",
              "          const docLinkHtml = 'Like what you see? Visit the ' +\n",
              "            '<a target=\"_blank\" href=https://colab.research.google.com/notebooks/data_table.ipynb>data table notebook</a>'\n",
              "            + ' to learn more about interactive tables.';\n",
              "          element.innerHTML = '';\n",
              "          dataTable['output_type'] = 'display_data';\n",
              "          await google.colab.output.renderOutput(dataTable, element);\n",
              "          const docLink = document.createElement('div');\n",
              "          docLink.innerHTML = docLinkHtml;\n",
              "          element.appendChild(docLink);\n",
              "        }\n",
              "      </script>\n",
              "    </div>\n",
              "  </div>\n",
              "  "
            ],
            "text/plain": [
              "          Date          Open          High           Low         Close       Volume  Dividends  Stock Splits        RSI   decision\n",
              "0   2020-01-01   7194.892090   7254.330566   7174.944336   7200.174316  18565664997          0             0   0.000000   0.000000\n",
              "1   2020-01-02   7202.551270   7212.155273   6935.270020   6985.470215  20802083465          0             0   0.000000   0.000000\n",
              "2   2020-01-03   6984.428711   7413.715332   6914.996094   7344.884277  28111481032          0             0   0.000000   0.000000\n",
              "3   2020-01-04   7345.375488   7427.385742   7309.514160   7410.656738  18444271275          0             0   0.000000   0.000000\n",
              "4   2020-01-05   7410.451660   7544.497070   7400.535645   7411.317383  19725074095          0             0   0.000000   0.000000\n",
              "..         ...           ...           ...           ...           ...          ...        ...           ...        ...        ...\n",
              "778 2022-02-17  43937.070312  44132.972656  40249.371094  40538.011719  26246662813          0             0  45.290400  45.290400\n",
              "779 2022-02-18  40552.132812  40929.152344  39637.617188  40030.976562  23310007704          0             0  43.609584  43.609584\n",
              "780 2022-02-19  40026.023438  40418.878906  39713.058594  40122.156250  13736557863          0             0  44.011980  44.011980\n",
              "781 2022-02-20  40118.101562  40119.890625  38112.812500  38431.378906  18340576452          0             0  38.522445  38.522445\n",
              "782 2022-02-21  38339.218750  39379.757812  37438.433594  37838.296875  24180744192          0             0  36.789055  36.789055\n",
              "\n",
              "[783 rows x 10 columns]"
            ]
          },
          "metadata": {},
          "execution_count": 65
        },
        {
          "output_type": "stream",
          "name": "stdout",
          "text": [
            "Error: Runtime no longer has a reference to this dataframe, please re-run this cell and try again.\n",
            "Error: Runtime no longer has a reference to this dataframe, please re-run this cell and try again.\n"
          ]
        }
      ]
    },
    {
      "cell_type": "code",
      "source": [
        "df.decision[df.RSI >= 70] = \"sell\"\n",
        "df.decision[df.RSI <= 30] = \"invest\"\n",
        "df.decision[(df.RSI < 70)  & (df.RSI > 30)] = \"hold\""
      ],
      "metadata": {
        "colab": {
          "base_uri": "https://localhost:8080/"
        },
        "id": "qsUweTPOmQ87",
        "outputId": "2ccf0355-f518-4d98-d0eb-4dcd89c61080"
      },
      "execution_count": 69,
      "outputs": [
        {
          "output_type": "stream",
          "name": "stderr",
          "text": [
            "/usr/local/lib/python3.7/dist-packages/ipykernel_launcher.py:1: SettingWithCopyWarning: \n",
            "A value is trying to be set on a copy of a slice from a DataFrame\n",
            "\n",
            "See the caveats in the documentation: https://pandas.pydata.org/pandas-docs/stable/user_guide/indexing.html#returning-a-view-versus-a-copy\n",
            "  \"\"\"Entry point for launching an IPython kernel.\n",
            "/usr/local/lib/python3.7/dist-packages/ipykernel_launcher.py:2: SettingWithCopyWarning: \n",
            "A value is trying to be set on a copy of a slice from a DataFrame\n",
            "\n",
            "See the caveats in the documentation: https://pandas.pydata.org/pandas-docs/stable/user_guide/indexing.html#returning-a-view-versus-a-copy\n",
            "  \n",
            "/usr/local/lib/python3.7/dist-packages/ipykernel_launcher.py:3: SettingWithCopyWarning: \n",
            "A value is trying to be set on a copy of a slice from a DataFrame\n",
            "\n",
            "See the caveats in the documentation: https://pandas.pydata.org/pandas-docs/stable/user_guide/indexing.html#returning-a-view-versus-a-copy\n",
            "  This is separate from the ipykernel package so we can avoid doing imports until\n"
          ]
        }
      ]
    },
    {
      "cell_type": "code",
      "source": [
        "\n",
        "print(df.head())\n",
        "print(df.tail())"
      ],
      "metadata": {
        "colab": {
          "base_uri": "https://localhost:8080/"
        },
        "id": "pB1UIYy8mx2B",
        "outputId": "1a868ad6-ada6-4d3e-b0d3-c564b6fced19"
      },
      "execution_count": 70,
      "outputs": [
        {
          "output_type": "stream",
          "name": "stdout",
          "text": [
            "        Date         Open         High          Low        Close       Volume  Dividends  Stock Splits  RSI decision\n",
            "0 2020-01-01  7194.892090  7254.330566  7174.944336  7200.174316  18565664997          0             0  0.0   invest\n",
            "1 2020-01-02  7202.551270  7212.155273  6935.270020  6985.470215  20802083465          0             0  0.0   invest\n",
            "2 2020-01-03  6984.428711  7413.715332  6914.996094  7344.884277  28111481032          0             0  0.0   invest\n",
            "3 2020-01-04  7345.375488  7427.385742  7309.514160  7410.656738  18444271275          0             0  0.0   invest\n",
            "4 2020-01-05  7410.451660  7544.497070  7400.535645  7411.317383  19725074095          0             0  0.0   invest\n",
            "          Date          Open          High           Low         Close       Volume  Dividends  Stock Splits        RSI decision\n",
            "778 2022-02-17  43937.070312  44132.972656  40249.371094  40538.011719  26246662813          0             0  45.290400     hold\n",
            "779 2022-02-18  40552.132812  40929.152344  39637.617188  40030.976562  23310007704          0             0  43.609584     hold\n",
            "780 2022-02-19  40026.023438  40418.878906  39713.058594  40122.156250  13736557863          0             0  44.011980     hold\n",
            "781 2022-02-20  40118.101562  40119.890625  38112.812500  38431.378906  18340576452          0             0  38.522445     hold\n",
            "782 2022-02-21  38339.218750  39379.757812  37438.433594  37838.296875  24180744192          0             0  36.789055     hold\n"
          ]
        }
      ]
    },
    {
      "cell_type": "code",
      "source": [
        "df.count"
      ],
      "metadata": {
        "colab": {
          "base_uri": "https://localhost:8080/"
        },
        "id": "oT33X_DDnO6X",
        "outputId": "4a1252ec-7b25-4fa4-eb9b-58c9989db1c7"
      },
      "execution_count": 73,
      "outputs": [
        {
          "output_type": "execute_result",
          "data": {
            "text/plain": [
              "<bound method DataFrame.count of           Date          Open          High           Low         Close       Volume  Dividends  Stock Splits        RSI decision\n",
              "0   2020-01-01   7194.892090   7254.330566   7174.944336   7200.174316  18565664997          0             0   0.000000   invest\n",
              "1   2020-01-02   7202.551270   7212.155273   6935.270020   6985.470215  20802083465          0             0   0.000000   invest\n",
              "2   2020-01-03   6984.428711   7413.715332   6914.996094   7344.884277  28111481032          0             0   0.000000   invest\n",
              "3   2020-01-04   7345.375488   7427.385742   7309.514160   7410.656738  18444271275          0             0   0.000000   invest\n",
              "4   2020-01-05   7410.451660   7544.497070   7400.535645   7411.317383  19725074095          0             0   0.000000   invest\n",
              "..         ...           ...           ...           ...           ...          ...        ...           ...        ...      ...\n",
              "778 2022-02-17  43937.070312  44132.972656  40249.371094  40538.011719  26246662813          0             0  45.290400     hold\n",
              "779 2022-02-18  40552.132812  40929.152344  39637.617188  40030.976562  23310007704          0             0  43.609584     hold\n",
              "780 2022-02-19  40026.023438  40418.878906  39713.058594  40122.156250  13736557863          0             0  44.011980     hold\n",
              "781 2022-02-20  40118.101562  40119.890625  38112.812500  38431.378906  18340576452          0             0  38.522445     hold\n",
              "782 2022-02-21  38339.218750  39379.757812  37438.433594  37838.296875  24180744192          0             0  36.789055     hold\n",
              "\n",
              "[783 rows x 10 columns]>"
            ]
          },
          "metadata": {},
          "execution_count": 73
        }
      ]
    },
    {
      "cell_type": "code",
      "source": [
        "# plot price\n",
        "plt.figure(figsize=(15,5))\n",
        "plt.plot(df['Date'], df['Close'])\n",
        "plt.title('Price chart (Close)')\n",
        "plt.show()\n",
        "\n",
        "\n",
        "# plot correspondingRSI values and significant levels\n",
        "plt.figure(figsize=(15,5))\n",
        "plt.title('RSI chart')\n",
        "plt.plot(df['Date'], df['RSI'])\n",
        "\n",
        "plt.axhline(0, linestyle='--', alpha=0.1)\n",
        "plt.axhline(20, linestyle='--', alpha=0.5)\n",
        "plt.axhline(30, linestyle='--')\n",
        "\n",
        "plt.axhline(70, linestyle='--')\n",
        "plt.axhline(80, linestyle='--', alpha=0.5)\n",
        "plt.axhline(100, linestyle='--', alpha=0.1)\n",
        "plt.show()"
      ],
      "metadata": {
        "colab": {
          "base_uri": "https://localhost:8080/",
          "height": 655
        },
        "id": "vrSoHoDki9Au",
        "outputId": "479d3ce3-90e4-4799-c1b1-530fd3f4faa3"
      },
      "execution_count": 74,
      "outputs": [
        {
          "output_type": "display_data",
          "data": {
            "image/png": "[encoded data removed]",
            "text/plain": [
              "<Figure size 1080x360 with 1 Axes>"
            ]
          },
          "metadata": {
            "needs_background": "light"
          }
        },
        {
          "output_type": "display_data",
          "data": {
            "image/png": "[encoded data removed]",
            "text/plain": [
              "<Figure size 1080x360 with 1 Axes>"
            ]
          },
          "metadata": {
            "needs_background": "light"
          }
        }
      ]
    },
    {
      "cell_type": "code",
      "source": [
        "dict = {}\n",
        "dict[\"Date\"] = \"dd\""
      ],
      "metadata": {
        "id": "zdux77CvzqyU"
      },
      "execution_count": 78,
      "outputs": []
    },
    {
      "cell_type": "code",
      "source": [
        "for i in np.arange(df.Date.size):\n",
        "   dict[df.Date[i]] = df.decision[i]"
      ],
      "metadata": {
        "id": "U5dGfOt9zwR_"
      },
      "execution_count": 89,
      "outputs": []
    }
  ]
}